{
 "cells": [
  {
   "cell_type": "markdown",
   "metadata": {},
   "source": [
    "# Automatic EDA using ydata_profiling"
   ]
  },
  {
   "cell_type": "code",
   "execution_count": 1,
   "metadata": {},
   "outputs": [
    {
     "name": "stderr",
     "output_type": "stream",
     "text": [
      "d:\\Program_Files\\miniconda3\\envs\\ydata-profiling\\lib\\site-packages\\tqdm\\auto.py:21: TqdmWarning: IProgress not found. Please update jupyter and ipywidgets. See https://ipywidgets.readthedocs.io/en/stable/user_install.html\n",
      "  from .autonotebook import tqdm as notebook_tqdm\n"
     ]
    }
   ],
   "source": [
    "# Import Libraries\n",
    "import numpy as np\n",
    "import pandas as pd\n",
    "import seaborn as sns\n",
    "import ydata_profiling as ydp"
   ]
  },
  {
   "cell_type": "code",
   "execution_count": 5,
   "metadata": {},
   "outputs": [],
   "source": [
    "# Load Data\n",
    "df = sns.load_dataset('titanic')"
   ]
  },
  {
   "cell_type": "code",
   "execution_count": 7,
   "metadata": {},
   "outputs": [
    {
     "name": "stderr",
     "output_type": "stream",
     "text": [
      "Summarize dataset: 100%|██████████| 41/41 [00:15<00:00,  2.69it/s, Completed]                    \n",
      "Generate report structure: 100%|██████████| 1/1 [00:21<00:00, 21.74s/it]\n",
      "Render HTML: 100%|██████████| 1/1 [00:01<00:00,  1.95s/it]\n",
      "Export report to file: 100%|██████████| 1/1 [00:00<00:00, 14.40it/s]\n"
     ]
    }
   ],
   "source": [
    "# ydata_profiling report\n",
    "profile = ydp.ProfileReport(df)\n",
    "profile.to_file(output_file=\"./output/titanic_report.html\")"
   ]
  },
  {
   "cell_type": "code",
   "execution_count": 8,
   "metadata": {},
   "outputs": [],
   "source": [
    "df_population = pd.read_csv('sub-division_population_of_pakistan.csv')"
   ]
  },
  {
   "cell_type": "code",
   "execution_count": 9,
   "metadata": {},
   "outputs": [
    {
     "name": "stderr",
     "output_type": "stream",
     "text": [
      "Summarize dataset: 100%|██████████| 319/319 [01:23<00:00,  3.81it/s, Completed]                                                     \n",
      "Generate report structure: 100%|██████████| 1/1 [00:18<00:00, 18.64s/it]\n",
      "Render HTML: 100%|██████████| 1/1 [00:17<00:00, 17.75s/it]\n",
      "Export report to file: 100%|██████████| 1/1 [00:00<00:00,  3.58it/s]\n"
     ]
    }
   ],
   "source": [
    "profile = ydp.ProfileReport(df_population)\n",
    "profile.to_file(output_file=\"./output/population_report.html\")"
   ]
  },
  {
   "cell_type": "code",
   "execution_count": null,
   "metadata": {},
   "outputs": [],
   "source": []
  }
 ],
 "metadata": {
  "kernelspec": {
   "display_name": "base",
   "language": "python",
   "name": "python3"
  },
  "language_info": {
   "codemirror_mode": {
    "name": "ipython",
    "version": 3
   },
   "file_extension": ".py",
   "mimetype": "text/x-python",
   "name": "python",
   "nbconvert_exporter": "python",
   "pygments_lexer": "ipython3",
   "version": "3.10.12"
  }
 },
 "nbformat": 4,
 "nbformat_minor": 2
}
